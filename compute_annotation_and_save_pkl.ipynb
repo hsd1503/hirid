{
 "cells": [
  {
   "cell_type": "code",
   "execution_count": 1,
   "metadata": {},
   "outputs": [],
   "source": [
    "import os\n",
    "import pandas as pd\n",
    "import numpy as np\n",
    "import pickle\n",
    "from collections import Counter"
   ]
  },
  {
   "cell_type": "code",
   "execution_count": 2,
   "metadata": {},
   "outputs": [],
   "source": [
    "def annotation(tmp_map, tmp_lactate, tmp_drug):\n",
    "    \n",
    "    # level 1 flag\n",
    "    level_1_flag_CF = np.logical_and(np.logical_and(tmp_map > 65, tmp_drug == 0), tmp_lactate <= 2)\n",
    "    level_1_flag_nonCF = np.logical_or(np.logical_and(tmp_lactate > 2, tmp_drug > 0), tmp_map <= 65)\n",
    "    n_points = len(level_1_flag_CF)\n",
    "    # level 2 flag\n",
    "    width = 4\n",
    "    level_2_flag_CF = [0]*width\n",
    "    level_2_flag_nonCF = [0]*width\n",
    "    for i in range(width, n_points-width):\n",
    "        if np.sum(level_1_flag_CF[i-width:i+width]) >= 6:\n",
    "            level_2_flag_CF.append(1)\n",
    "        else:\n",
    "            level_2_flag_CF.append(0)\n",
    "        if np.sum(level_1_flag_nonCF[i-width:i+width]) >= 6:\n",
    "            level_2_flag_nonCF.append(1)\n",
    "        else:\n",
    "            level_2_flag_nonCF.append(0)\n",
    "        \n",
    "    return np.array(level_2_flag_CF)[lag:], np.array(level_2_flag_nonCF)[lag:]\n",
    "    "
   ]
  },
  {
   "cell_type": "code",
   "execution_count": 3,
   "metadata": {},
   "outputs": [],
   "source": [
    "lag = 8*12 # 8 hours, 5 mins each point\n",
    "csv_path = 'data/imputed_stage/csv'\n",
    "for fname in os.listdir(csv_path):\n",
    "    tmp_df = pd.read_csv(os.path.join(csv_path, fname))\n",
    "    tmp_pids = np.unique(tmp_df.patientid.values)\n",
    "    for pid in tmp_pids:\n",
    "        tmp_data = tmp_df[tmp_df.patientid==pid]\n",
    "        # vars for Circulatory state annotation\n",
    "        tmp_map = tmp_data.vm5.values\n",
    "        tmp_lactate = (tmp_data.vm136.values + tmp_data.vm146.values)/2\n",
    "        tmp_drug = np.array(np.sum(tmp_data.iloc[:,-5:-1].values, axis=1) > 0, dtype=float)\n",
    "        flag_CF, flag_nonCF = annotation(tmp_map, tmp_lactate, tmp_drug)\n",
    "        \n",
    "        tmp_vm = tmp_data.iloc[:len(flag_CF),2:-5].values\n",
    "        res = {'data':tmp_vm, 'flag_CF':flag_CF, 'flag_nonCF':flag_nonCF}\n",
    "        with open('data/imputed_stage/pkl/{}.pkl'.format(pid), 'wb') as fout:\n",
    "            pickle.dump(res, fout)\n",
    "            \n",
    "    break"
   ]
  },
  {
   "cell_type": "code",
   "execution_count": null,
   "metadata": {},
   "outputs": [],
   "source": []
  }
 ],
 "metadata": {
  "kernelspec": {
   "display_name": "Python 3",
   "language": "python",
   "name": "python3"
  },
  "language_info": {
   "codemirror_mode": {
    "name": "ipython",
    "version": 3
   },
   "file_extension": ".py",
   "mimetype": "text/x-python",
   "name": "python",
   "nbconvert_exporter": "python",
   "pygments_lexer": "ipython3",
   "version": "3.8.3"
  }
 },
 "nbformat": 4,
 "nbformat_minor": 4
}
